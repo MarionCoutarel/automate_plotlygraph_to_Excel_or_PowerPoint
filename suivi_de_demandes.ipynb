{
 "cells": [
  {
   "cell_type": "code",
   "execution_count": 8,
   "metadata": {
    "ExecuteTime": {
     "end_time": "2022-09-15T10:13:03.830065Z",
     "start_time": "2022-09-15T10:13:03.811999Z"
    }
   },
   "outputs": [],
   "source": [
    "import glob\n",
    "import os\n",
    "import pandas as pd\n",
    "import plotly.io as pio\n",
    "import plotly.express as px\n",
    "import plotly.graph_objects as go\n",
    "\n",
    "from datetime import datetime\n",
    "from openpyxl import Workbook\n",
    "from openpyxl.drawing.image import Image\n",
    "from plotly.subplots import make_subplots\n",
    "from pptx.util import Cm\n",
    "from pptx import Presentation"
   ]
  },
  {
   "cell_type": "code",
   "execution_count": 9,
   "metadata": {
    "ExecuteTime": {
     "end_time": "2022-09-15T10:13:03.861058Z",
     "start_time": "2022-09-15T10:13:03.831998Z"
    }
   },
   "outputs": [],
   "source": [
    "pio.templates.default = \"simple_white\""
   ]
  },
  {
   "cell_type": "code",
   "execution_count": 10,
   "metadata": {
    "ExecuteTime": {
     "end_time": "2022-09-15T10:13:03.877139Z",
     "start_time": "2022-09-15T10:13:03.862998Z"
    }
   },
   "outputs": [],
   "source": [
    "list_of_files = glob.glob('sources\\*') # liste tous les fichiers du dossier\n",
    "\n",
    "list_of_files = sorted(list_of_files, key=os.path.getmtime) #sort via la date de création (le dernier le plus récent)"
   ]
  },
  {
   "cell_type": "code",
   "execution_count": 11,
   "metadata": {
    "ExecuteTime": {
     "end_time": "2022-09-15T10:13:03.954142Z",
     "start_time": "2022-09-15T10:13:03.879142Z"
    }
   },
   "outputs": [],
   "source": [
    "demandes = pd.read_excel(list_of_files[-2]) #génére un df à partir du pelnutième fichier du dossier"
   ]
  },
  {
   "cell_type": "code",
   "execution_count": 12,
   "metadata": {
    "ExecuteTime": {
     "end_time": "2022-09-15T10:13:04.032009Z",
     "start_time": "2022-09-15T10:13:03.956145Z"
    }
   },
   "outputs": [],
   "source": [
    "demandes2 = pd.read_excel(list_of_files[-1])#génére un df à parti du fichier le plus récent du dossier"
   ]
  },
  {
   "cell_type": "code",
   "execution_count": 13,
   "metadata": {
    "ExecuteTime": {
     "end_time": "2022-09-15T10:13:04.047224Z",
     "start_time": "2022-09-15T10:13:04.034014Z"
    }
   },
   "outputs": [],
   "source": [
    "wb=Workbook() # créé un workbook pour export excel"
   ]
  },
  {
   "cell_type": "code",
   "execution_count": 14,
   "metadata": {
    "ExecuteTime": {
     "end_time": "2022-09-15T10:13:04.062560Z",
     "start_time": "2022-09-15T10:13:04.048238Z"
    }
   },
   "outputs": [],
   "source": [
    "ppt = Presentation(\"template.pptx\") #ouvre une présentation powerpoint\n"
   ]
  },
  {
   "cell_type": "code",
   "execution_count": 15,
   "metadata": {
    "ExecuteTime": {
     "end_time": "2022-09-15T10:13:04.077990Z",
     "start_time": "2022-09-15T10:13:04.063560Z"
    }
   },
   "outputs": [],
   "source": [
    "first_slide = ppt.slides[0] # première slide\n",
    "  "
   ]
  },
  {
   "cell_type": "code",
   "execution_count": 16,
   "metadata": {
    "ExecuteTime": {
     "end_time": "2022-09-15T10:13:04.094001Z",
     "start_time": "2022-09-15T10:13:04.079985Z"
    }
   },
   "outputs": [],
   "source": [
    "subtitle = first_slide.placeholders[1] #sous_titre\n",
    "subtitle.text = str(demandes2[\"Date d'émission\"].dt.date.max())"
   ]
  },
  {
   "cell_type": "code",
   "execution_count": 17,
   "metadata": {
    "ExecuteTime": {
     "end_time": "2022-09-15T10:13:04.139996Z",
     "start_time": "2022-09-15T10:13:04.096025Z"
    }
   },
   "outputs": [],
   "source": [
    "pres = \"presentation-{}.pptx\".format(str(demandes2[\"Date d'émission\"].dt.date.max()))\n",
    "ppt.save(pres)"
   ]
  },
  {
   "cell_type": "markdown",
   "metadata": {},
   "source": [
    "# fonctions"
   ]
  },
  {
   "cell_type": "code",
   "execution_count": 18,
   "metadata": {
    "ExecuteTime": {
     "end_time": "2022-09-15T10:13:04.156002Z",
     "start_time": "2022-09-15T10:13:04.141997Z"
    }
   },
   "outputs": [],
   "source": [
    "def isEncours( df):\n",
    "    '''créé une nouvelle colonne (En cours) selon le Statut'''\n",
    "    for i in range(len(df)):\n",
    "        if df.loc[i, \"Statut\"]==\"Résolu\":\n",
    "            df.loc[i,\"En cours\"]=\"Non\"\n",
    "        elif df.loc[i, \"Statut\"]==\"Clôturé\":\n",
    "            df.loc[i,\"En cours\"]=\"Non\"\n",
    "        elif df.loc[i, \"Statut\"]==\"Refusé Operation\":\n",
    "            df.loc[i,\"En cours\"]=\"Non\"\n",
    "        else:\n",
    "            df.loc[i,\"En cours\"]='Oui'\n"
   ]
  },
  {
   "cell_type": "code",
   "execution_count": 19,
   "metadata": {
    "ExecuteTime": {
     "end_time": "2022-09-15T10:13:04.172012Z",
     "start_time": "2022-09-15T10:13:04.158002Z"
    }
   },
   "outputs": [],
   "source": [
    "def compare_stocks_demandes(df, df2):\n",
    "    ''' Génére un graphique en barre comparant les stocks d événements entre deux périodes puis l'exporte dans un fichier\n",
    "    Excel et dans une présentation prowerpoint spécifiés en amont\n",
    "    '''\n",
    "    T0 = str(df[\"Date d'émission\"].dt.date.max())\n",
    "    T1 = str(df2[\"Date d'émission\"].dt.date.max())\n",
    "    dft = pd.DataFrame.from_dict({T0: [df['En cours'].value_counts()[0], df['En cours'].value_counts()[1]], \n",
    "                                 T1: [df2['En cours'].value_counts()[0],df2['En cours'].value_counts()[1]]}, \n",
    "                                orient='index', columns=[\"Non\", \"Oui\"]\n",
    "                            )\n",
    "\n",
    "    fig = go.Figure()\n",
    "    fig.add_trace( go.Bar(y=[T0,T1], x=dft[\"Oui\"],\n",
    "                      marker_color= \"#F58518\",\n",
    "                      orientation='h',\n",
    "                      name=\"En cours\",\n",
    "                      text=dft[\"Oui\"], \n",
    "                      \n",
    "    ))\n",
    "    fig.add_trace(go.Bar(y=[T0,T1], x=dft[\"Non\"],\n",
    "                     marker_color= 'dimgrey',\n",
    "                     orientation='h',\n",
    "                     name=\"Fini\",\n",
    "                     text= dft[\"Non\"],\n",
    "                    \n",
    "    ))\n",
    "    fig.add_trace(go.Scatter(y=[T0,T1], x = list(dft.sum(axis=1)), \n",
    "                         mode = \"lines+markers+text\",text=list(dft.sum(axis=1)),\n",
    "                         textfont=dict( size=15, color=\"#B22222\"),\n",
    "                         textposition=\"middle right\",\n",
    "                         marker_color = \"#B22222\",showlegend = False\n",
    "                        ))\n",
    "    fig.update_layout( width=900,\n",
    "                    barmode=\"group\",bargap=0.1,\n",
    "                     title=\"Nombre de demandes\", \n",
    "                     legend=dict(xanchor=\"right\", yanchor=\"top\", orientation=\"h\"))\n",
    "    fig.update_xaxes(visible=False,range=[0,dft.sum(axis=1).max()+120])\n",
    "    fig.update_yaxes(type='category' )\n",
    "\n",
    "    fig.write_image(\"fig.png\", engine=\"kaleido\") # nécessite l'intallation de kaleido\n",
    "    \n",
    "    # ajoute l'image du graph à un fichier excel\n",
    "    sheet1 = wb.create_sheet(\"stock\",0)\n",
    "    active=wb[\"stock\"]\n",
    "    active.add_image(Image(\"fig.png\"),\"A1\")\n",
    "    wb.save(\"suivi_de_demande_\"+T1+\".xlsx\")\n",
    "    \n",
    "    # ajoute l'image du graph à une présentation powerpoint\n",
    "    prs = Presentation(pres) # on charge la présentation avec la première slide modifiée\n",
    "    slide2_layout = prs.slide_layouts[6] # layout d'une page blanche (cf menu ajouter une slide de powerpoint)\n",
    "    slide2= prs.slides.add_slide(slide2_layout) # ajoute une slide à la présentation\n",
    "    left=Cm(1)\n",
    "    top=Cm(0.6)\n",
    "    pic = slide2.shapes.add_picture(\"fig.png\", left, top)\n",
    "    \n",
    "    prs.save(pres)\n",
    "    "
   ]
  },
  {
   "cell_type": "markdown",
   "metadata": {},
   "source": [
    "# Sum up"
   ]
  },
  {
   "cell_type": "code",
   "execution_count": 20,
   "metadata": {
    "ExecuteTime": {
     "end_time": "2022-09-15T10:13:04.915377Z",
     "start_time": "2022-09-15T10:13:04.172999Z"
    }
   },
   "outputs": [],
   "source": [
    "isEncours(demandes)\n",
    "isEncours(demandes2)"
   ]
  },
  {
   "cell_type": "code",
   "execution_count": 21,
   "metadata": {
    "ExecuteTime": {
     "end_time": "2022-09-15T10:13:06.081729Z",
     "start_time": "2022-09-15T10:13:04.917380Z"
    }
   },
   "outputs": [],
   "source": [
    "compare_stocks_demandes(demandes, demandes2)"
   ]
  }
 ],
 "metadata": {
  "hide_input": false,
  "kernelspec": {
   "display_name": "Python 3",
   "language": "python",
   "name": "python3"
  },
  "language_info": {
   "codemirror_mode": {
    "name": "ipython",
    "version": 3
   },
   "file_extension": ".py",
   "mimetype": "text/x-python",
   "name": "python",
   "nbconvert_exporter": "python",
   "pygments_lexer": "ipython3",
   "version": "3.8.5"
  },
  "toc": {
   "base_numbering": 1,
   "nav_menu": {},
   "number_sections": true,
   "sideBar": true,
   "skip_h1_title": false,
   "title_cell": "Table of Contents",
   "title_sidebar": "Contents",
   "toc_cell": false,
   "toc_position": {},
   "toc_section_display": true,
   "toc_window_display": false
  }
 },
 "nbformat": 4,
 "nbformat_minor": 4
}
